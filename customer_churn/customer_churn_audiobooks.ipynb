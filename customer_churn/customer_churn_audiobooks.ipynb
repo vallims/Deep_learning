{
 "cells": [
  {
   "cell_type": "markdown",
   "id": "18dd2e49",
   "metadata": {},
   "source": [
    "In this project, data is taken from an Audiobook app. The aim is to predict cutomer churn using machine learning models.\n",
    "Each customer in the database has make a purchase at least once. The main idea is to spend money by targeting only on the customers who are likely to convert again thus increase in sales and profitability.\n",
    "\n",
    "The data has several variables: Customer ID, Book length in mins_avg (average of all purchases), Book length in minutes_sum (sum of all purchases), Price Paid_avg (average of all purchases), Price paid_sum (sum of all purchases), Review (a Boolean variable), Review (out of 10), Total minutes listened, Completion (from 0 to 1), Support requests (number), and Last visited minus purchase date (in days).\n",
    "\n",
    "So these are the inputs (excluding customer ID, as it is completely arbitrary. It's more like a name, than a number).\n",
    "\n",
    "The targets are a Boolean variable (so 0, or 1). We are taking a period of 2 years in our inputs, and the next 6 months as targets. So, in fact, we are predicting if: based on the last 2 years of activity and engagement, a customer will convert in the next 6 months. 6 months sounds like a reasonable time. If they don't convert after 6 months, chances are they've gone to a competitor or didn't like the Audiobook way of digesting information.\n",
    "\n",
    "The task is simple: create a machine learning algorithm, which is able to predict if a customer will buy again.\n",
    "\n",
    "This is a classification problem with two classes: won't buy and will buy, represented by 0s and 1s."
   ]
  },
  {
   "cell_type": "code",
   "execution_count": 51,
   "id": "3ef63361",
   "metadata": {},
   "outputs": [],
   "source": [
    "import pandas as pd\n",
    "import numpy as np\n",
    "import tensorflow as tf"
   ]
  },
  {
   "cell_type": "markdown",
   "id": "417db112",
   "metadata": {},
   "source": [
    "# Pre processing data"
   ]
  },
  {
   "cell_type": "code",
   "execution_count": 52,
   "id": "72cb1ede",
   "metadata": {},
   "outputs": [],
   "source": [
    "from sklearn import preprocessing"
   ]
  },
  {
   "cell_type": "code",
   "execution_count": 53,
   "id": "8a054a65",
   "metadata": {},
   "outputs": [],
   "source": [
    "#load data\n",
    "raw_df = pd.read_csv(\"data/Audiobooks_data.csv\")"
   ]
  },
  {
   "cell_type": "code",
   "execution_count": 54,
   "id": "49c59419",
   "metadata": {},
   "outputs": [],
   "source": [
    "# The inputs are all columns in the csv, except for the first one [:,0]\n",
    "# (which is just the arbitrary customer IDs that bear no useful information),\n",
    "# and the last one [:,-1] (which is our targets)\n",
    "\n",
    "unscaled_inputs_df = raw_df.iloc[:,1:-1]\n",
    "\n",
    "# The targets are in the last column. That's how datasets are conventionally organized.\n",
    "targets_df = raw_df.iloc[:,-1]"
   ]
  },
  {
   "cell_type": "code",
   "execution_count": 55,
   "id": "86aae2ef",
   "metadata": {},
   "outputs": [],
   "source": [
    "unscaled_inputs = np.array(unscaled_inputs_df)\n",
    "targets = np.array(targets_df)"
   ]
  },
  {
   "cell_type": "markdown",
   "id": "e98c6c72",
   "metadata": {},
   "source": [
    "# balancing the dataset"
   ]
  },
  {
   "cell_type": "code",
   "execution_count": 56,
   "id": "7a3013e6",
   "metadata": {},
   "outputs": [
    {
     "data": {
      "text/plain": [
       "2237"
      ]
     },
     "execution_count": 56,
     "metadata": {},
     "output_type": "execute_result"
    }
   ],
   "source": [
    "# Count how many targets are 1 (meaning that the customer did convert)\n",
    "targets_one_count = int(np.sum(targets))\n",
    "targets_one_count"
   ]
  },
  {
   "cell_type": "code",
   "execution_count": 57,
   "id": "78a99af2",
   "metadata": {},
   "outputs": [],
   "source": [
    "# we have 2237 rows with 1 and the remaing rows with 0 \n",
    "# to create a balanced dataset, we remove excess input/target pairs with target as \n",
    "\n",
    "targets_zero_count = 0\n",
    "\n",
    "indices_to_remove = []\n",
    "for i in range(targets.shape[0]):\n",
    "    if targets[i] == 0:\n",
    "        targets_zero_count += 1\n",
    "        if targets_zero_count > targets_one_count:\n",
    "            indices_to_remove.append(i)"
   ]
  },
  {
   "cell_type": "code",
   "execution_count": 58,
   "id": "e844747e",
   "metadata": {},
   "outputs": [
    {
     "data": {
      "text/plain": [
       "9609"
      ]
     },
     "execution_count": 58,
     "metadata": {},
     "output_type": "execute_result"
    }
   ],
   "source": [
    "len(indices_to_remove)"
   ]
  },
  {
   "cell_type": "code",
   "execution_count": 59,
   "id": "b6113fbe",
   "metadata": {},
   "outputs": [
    {
     "data": {
      "text/plain": [
       "4474"
      ]
     },
     "execution_count": 59,
     "metadata": {},
     "output_type": "execute_result"
    }
   ],
   "source": [
    "#delete all indices marked to remove\n",
    "unscaled_inputs_bal = np.delete(unscaled_inputs,indices_to_remove,axis = 0)\n",
    "targets_bal = np.delete(targets,indices_to_remove,axis = 0)\n",
    "targets_bal.shape[0]"
   ]
  },
  {
   "cell_type": "markdown",
   "id": "62e218b6",
   "metadata": {},
   "source": [
    "# standardize inputs"
   ]
  },
  {
   "cell_type": "code",
   "execution_count": 60,
   "id": "e7e7e506",
   "metadata": {},
   "outputs": [],
   "source": [
    "scaled_inputs  = preprocessing.scale(unscaled_inputs_bal)"
   ]
  },
  {
   "cell_type": "markdown",
   "id": "ecddeb29",
   "metadata": {},
   "source": [
    "# Shuffle data"
   ]
  },
  {
   "cell_type": "code",
   "execution_count": 61,
   "id": "10c9c358",
   "metadata": {},
   "outputs": [],
   "source": [
    "indices_shuffle = np.arange(targets_bal.shape[0])\n",
    "np.random.shuffle(indices_shuffle)"
   ]
  },
  {
   "cell_type": "code",
   "execution_count": 62,
   "id": "8a3cfd83",
   "metadata": {},
   "outputs": [],
   "source": [
    "inputs_shuffle = scaled_inputs[indices_shuffle]\n",
    "targets_shuffle  = targets_bal[indices_shuffle]"
   ]
  },
  {
   "cell_type": "code",
   "execution_count": 63,
   "id": "1b033142",
   "metadata": {},
   "outputs": [
    {
     "data": {
      "text/plain": [
       "4474"
      ]
     },
     "execution_count": 63,
     "metadata": {},
     "output_type": "execute_result"
    }
   ],
   "source": [
    "inputs_shuffle.shape[0]"
   ]
  },
  {
   "cell_type": "markdown",
   "id": "ef15c7e5",
   "metadata": {},
   "source": [
    "# split data into train, validation and test sets"
   ]
  },
  {
   "cell_type": "code",
   "execution_count": 64,
   "id": "11cb9bb4",
   "metadata": {},
   "outputs": [],
   "source": [
    "# Count the total number of samples\n",
    "samples_count = inputs_shuffle.shape[0]"
   ]
  },
  {
   "cell_type": "code",
   "execution_count": 65,
   "id": "b369bba8",
   "metadata": {},
   "outputs": [],
   "source": [
    "# Count the samples in each subset, assuming we want 80-10-10 distribution of training, validation, and test.\n",
    "# Naturally, the numbers are integers.\n",
    "train_count = int(0.8 * samples_count)\n",
    "validation_count = int(0.1 * samples_count)\n",
    "# The 'test' dataset contains all remaining data.\n",
    "test_count = samples_count - train_count - validation_count"
   ]
  },
  {
   "cell_type": "code",
   "execution_count": 66,
   "id": "a1060b0d",
   "metadata": {},
   "outputs": [
    {
     "data": {
      "text/plain": [
       "3579"
      ]
     },
     "execution_count": 66,
     "metadata": {},
     "output_type": "execute_result"
    }
   ],
   "source": [
    "train_count"
   ]
  },
  {
   "cell_type": "code",
   "execution_count": 67,
   "id": "43668bb6",
   "metadata": {},
   "outputs": [],
   "source": [
    "train_input = inputs_shuffle[:train_count]\n",
    "train_target = targets_shuffle[:train_count]\n",
    "\n",
    "val_input = inputs_shuffle[train_count:train_count+validation_count]\n",
    "val_target = targets_shuffle[train_count:train_count+validation_count]\n",
    "\n",
    "test_input = inputs_shuffle[train_count+validation_count:]\n",
    "test_target = targets_shuffle[train_count+validation_count:]"
   ]
  },
  {
   "cell_type": "code",
   "execution_count": 68,
   "id": "73362948",
   "metadata": {},
   "outputs": [
    {
     "name": "stdout",
     "output_type": "stream",
     "text": [
      "1768 3579 0.49399273540095\n",
      "221 447 0.49440715883668906\n",
      "248 448 0.5535714285714286\n"
     ]
    }
   ],
   "source": [
    "# Print the number of targets that are 1s, the total number of samples, and the proportion for training, validation, and test.\n",
    "print(np.sum(train_target), train_count, np.sum(train_target) / train_count)\n",
    "print(np.sum(val_target), validation_count, np.sum(val_target) / validation_count)\n",
    "print(np.sum(test_target), test_count, np.sum(test_target) / test_count)"
   ]
  },
  {
   "cell_type": "markdown",
   "id": "a628264e",
   "metadata": {},
   "source": [
    "# Save the three datasets in *.npz.\n"
   ]
  },
  {
   "cell_type": "code",
   "execution_count": 69,
   "id": "c03fee75",
   "metadata": {},
   "outputs": [],
   "source": [
    "np.savez('Audiobooks_traindata', inputs=train_input, targets=train_target)\n",
    "np.savez('Audiobooks_valdata', inputs=val_input, targets=val_target)\n",
    "np.savez('Audiobooks_testdata', inputs=test_input, targets=test_target)"
   ]
  },
  {
   "cell_type": "markdown",
   "id": "a8443869",
   "metadata": {},
   "source": [
    "# load data"
   ]
  },
  {
   "cell_type": "code",
   "execution_count": 70,
   "id": "a096e2d7",
   "metadata": {},
   "outputs": [],
   "source": [
    "# let's create a temporary variable npz, where we will store each of the three Audiobooks datasets\n",
    "npz = np.load('Audiobooks_traindata.npz')\n",
    "\n",
    "# we extract the inputs using the keyword under which we saved them\n",
    "# to ensure that they are all floats, let's also take care of that\n",
    "train_inputs = npz['inputs'].astype(float)\n",
    "# targets must be int because of sparse_categorical_crossentropy (we want to be able to smoothly one-hot encode them)\n",
    "train_targets = npz['targets'].astype(int)\n",
    "\n",
    "# we load the validation data in the temporary variable\n",
    "npz = np.load('Audiobooks_valdata.npz')\n",
    "# we can load the inputs and the targets in the same line\n",
    "val_inputs, val_targets = npz['inputs'].astype(float), npz['targets'].astype(int)\n",
    "\n",
    "# we load the test data in the temporary variable\n",
    "npz = np.load('Audiobooks_testdata.npz')\n",
    "# we create 2 variables that will contain the test inputs and the test targets\n",
    "test_inputs, test_targets = npz['inputs'].astype(float), npz['targets'].astype(int)"
   ]
  },
  {
   "cell_type": "markdown",
   "id": "918c2176",
   "metadata": {},
   "source": [
    "# Model"
   ]
  },
  {
   "cell_type": "code",
   "execution_count": 71,
   "id": "f933f585",
   "metadata": {},
   "outputs": [],
   "source": [
    "# Set the input and output sizes\n",
    "input_size = 10\n",
    "output_size = 2\n",
    "# Use same hidden layer size for both hidden layers. Not a necessity.\n",
    "hidden_layer_size = 50\n",
    "    \n",
    "# define how the model will look like\n",
    "model = tf.keras.Sequential([\n",
    "    # tf.keras.layers.Dense is basically implementing: output = activation(dot(input, weight) + bias)\n",
    "    # it takes several arguments, but the most important ones for us are the hidden_layer_size and the activation function\n",
    "    tf.keras.layers.Dense(hidden_layer_size, activation='relu'), # 1st hidden layer\n",
    "    tf.keras.layers.Dense(hidden_layer_size, activation='relu'), # 2nd hidden layer\n",
    "    # the final layer is no different, we just make sure to activate it with softmax\n",
    "    tf.keras.layers.Dense(output_size, activation='softmax') # output layer\n",
    "])"
   ]
  },
  {
   "cell_type": "code",
   "execution_count": 72,
   "id": "dab6f8a4",
   "metadata": {},
   "outputs": [],
   "source": [
    "# Optimizer -  adam\n",
    "# loss function - sparse_categorical_crossentropy\n",
    "#output function - softmax\n",
    "# early stopping mechanism\n",
    "# batch size = 100\n",
    "# maximum epochs = 100"
   ]
  },
  {
   "cell_type": "code",
   "execution_count": 73,
   "id": "e8957fcb",
   "metadata": {},
   "outputs": [
    {
     "name": "stdout",
     "output_type": "stream",
     "text": [
      "Epoch 1/200\n",
      "72/72 - 1s - loss: 0.5070 - accuracy: 0.7329 - val_loss: 0.4586 - val_accuracy: 0.7427 - 1s/epoch - 16ms/step\n",
      "Epoch 2/200\n",
      "72/72 - 0s - loss: 0.4002 - accuracy: 0.7879 - val_loss: 0.4019 - val_accuracy: 0.7897 - 160ms/epoch - 2ms/step\n",
      "Epoch 3/200\n",
      "72/72 - 0s - loss: 0.3728 - accuracy: 0.7960 - val_loss: 0.3865 - val_accuracy: 0.7830 - 134ms/epoch - 2ms/step\n",
      "Epoch 4/200\n",
      "72/72 - 0s - loss: 0.3613 - accuracy: 0.8019 - val_loss: 0.3839 - val_accuracy: 0.8009 - 139ms/epoch - 2ms/step\n",
      "Epoch 5/200\n",
      "72/72 - 0s - loss: 0.3520 - accuracy: 0.8053 - val_loss: 0.3641 - val_accuracy: 0.8009 - 145ms/epoch - 2ms/step\n",
      "Epoch 6/200\n",
      "72/72 - 0s - loss: 0.3459 - accuracy: 0.8103 - val_loss: 0.3632 - val_accuracy: 0.8121 - 150ms/epoch - 2ms/step\n",
      "Epoch 7/200\n",
      "72/72 - 0s - loss: 0.3405 - accuracy: 0.8100 - val_loss: 0.3719 - val_accuracy: 0.7875 - 137ms/epoch - 2ms/step\n",
      "Epoch 8/200\n",
      "72/72 - 0s - loss: 0.3377 - accuracy: 0.8198 - val_loss: 0.3703 - val_accuracy: 0.7942 - 133ms/epoch - 2ms/step\n"
     ]
    },
    {
     "data": {
      "text/plain": [
       "<keras.src.callbacks.History at 0x2045d7e20a0>"
      ]
     },
     "execution_count": 73,
     "metadata": {},
     "output_type": "execute_result"
    }
   ],
   "source": [
    "### Choose the optimizer and the loss function\n",
    "\n",
    "model.compile(optimizer='adam', loss='sparse_categorical_crossentropy', metrics=['accuracy'])\n",
    "\n",
    "# set the batch size\n",
    "batch_size = 50\n",
    "\n",
    "# set a maximum number of training epochs\n",
    "max_epochs = 200\n",
    "\n",
    "# set an early stopping mechanism\n",
    "# let's set patience=2, to be a bit tolerant against random validation loss increases\n",
    "early_stopping = tf.keras.callbacks.EarlyStopping(patience=2)\n",
    "\n",
    "# fit the model\n",
    "# note that this time the train, validation and test data are not iterable\n",
    "model.fit(train_inputs, # train inputs\n",
    "          train_targets, # train targets\n",
    "          batch_size=batch_size, # batch size\n",
    "          epochs=max_epochs, # epochs that we will train for (assuming early stopping doesn't kick in)\n",
    "          # callbacks are functions called by a task when a task is completed\n",
    "          # task here is to check if val_loss is increasing\n",
    "          callbacks=[early_stopping], # early stopping\n",
    "          validation_data=(val_inputs, val_targets), # validation data\n",
    "          verbose = 2 # making sure we get enough information about the training process\n",
    "          )  "
   ]
  },
  {
   "cell_type": "markdown",
   "id": "18a08e9d",
   "metadata": {},
   "source": [
    "# test data"
   ]
  },
  {
   "cell_type": "code",
   "execution_count": 74,
   "id": "072a131b",
   "metadata": {},
   "outputs": [
    {
     "name": "stdout",
     "output_type": "stream",
     "text": [
      "14/14 [==============================] - 0s 3ms/step - loss: 0.3367 - accuracy: 0.8415\n"
     ]
    }
   ],
   "source": [
    "test_loss, test_accuracy = model.evaluate(test_inputs, test_targets)"
   ]
  },
  {
   "cell_type": "code",
   "execution_count": 75,
   "id": "2b747893",
   "metadata": {},
   "outputs": [
    {
     "name": "stdout",
     "output_type": "stream",
     "text": [
      "\n",
      "Test loss: 0.34. Test accuracy: 84.15%\n"
     ]
    }
   ],
   "source": [
    "print('\\nTest loss: {0:.2f}. Test accuracy: {1:.2f}%'.format(test_loss, test_accuracy*100.))"
   ]
  },
  {
   "cell_type": "code",
   "execution_count": null,
   "id": "8d5239ed",
   "metadata": {},
   "outputs": [],
   "source": []
  }
 ],
 "metadata": {
  "kernelspec": {
   "display_name": "myenv",
   "language": "python",
   "name": "myenv"
  },
  "language_info": {
   "codemirror_mode": {
    "name": "ipython",
    "version": 3
   },
   "file_extension": ".py",
   "mimetype": "text/x-python",
   "name": "python",
   "nbconvert_exporter": "python",
   "pygments_lexer": "ipython3",
   "version": "3.9.17"
  }
 },
 "nbformat": 4,
 "nbformat_minor": 5
}
